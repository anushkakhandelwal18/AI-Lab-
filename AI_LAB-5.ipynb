{
 "cells": [
  {
   "cell_type": "markdown",
   "metadata": {
    "id": "gcmpoqbviA1V"
   },
   "source": [
    "# LAB-5\n",
    "# TicTacToe using Min-Max algorithm"
   ]
  },
  {
   "cell_type": "markdown",
   "metadata": {
    "id": "t4Tjj3cLi3Bm"
   },
   "source": [
    "## Required Functions\n",
    " - Initialize the board\n",
    " - Display board\n",
    " - Is board filled\n",
    " - Has player won\n",
    " - Add player symbol to board\n",
    " - Min-Max function"
   ]
  },
  {
   "cell_type": "markdown",
   "metadata": {
    "id": "5IyTgTiHiPcL"
   },
   "source": [
    "## 1. Initialize the board"
   ]
  },
  {
   "cell_type": "code",
   "execution_count": 1,
   "metadata": {
    "colab": {
     "base_uri": "https://localhost:8080/"
    },
    "id": "fKtLQ8HVhzlP",
    "outputId": "d7325f89-a197-43ec-ad63-eb458e1f9f45"
   },
   "outputs": [
    {
     "name": "stdout",
     "output_type": "stream",
     "text": [
      "[['-', '-', '-'], ['-', '-', '-'], ['-', '-', '-']]\n"
     ]
    }
   ],
   "source": [
    "# creating the game board\n",
    "mainBoard = [['-','-','-'],['-','-','-'],['-','-','-']] \n",
    "print(mainBoard)"
   ]
  },
  {
   "cell_type": "markdown",
   "metadata": {
    "id": "CUIcOtNGicdg"
   },
   "source": [
    "## 2. Display board function"
   ]
  },
  {
   "cell_type": "code",
   "execution_count": 2,
   "metadata": {
    "colab": {
     "base_uri": "https://localhost:8080/"
    },
    "id": "RUYotylOibfh",
    "outputId": "b0d57c7a-cf3c-44ea-d8d1-8cd4057176d2"
   },
   "outputs": [
    {
     "name": "stdout",
     "output_type": "stream",
     "text": [
      "  | 0 1 2\n",
      "--|-------\n",
      "0 | - - - \n",
      "1 | - - - \n",
      "2 | - - - \n"
     ]
    }
   ],
   "source": [
    "def printBoard(board):\n",
    "  print(\"  | 0 1 2\")\n",
    "  print(\"--|-------\")\n",
    "  for i in range(0,len(board)):\n",
    "    print(str(i) + \" | \",end=\"\")\n",
    "    for j in range(0,len(board[i])):\n",
    "      print(str(board[i][j])+\" \",end=\"\")\n",
    "    print(\"\")\n",
    "printBoard(mainBoard)"
   ]
  },
  {
   "cell_type": "markdown",
   "metadata": {
    "id": "kmGsYDFFijiC"
   },
   "source": [
    "## 3. Is the board all filled"
   ]
  },
  {
   "cell_type": "code",
   "execution_count": 3,
   "metadata": {
    "colab": {
     "base_uri": "https://localhost:8080/"
    },
    "id": "G0vlkP6ziiK5",
    "outputId": "57002fde-c5f4-4247-bf7a-83e4f4d2ad29"
   },
   "outputs": [
    {
     "name": "stdout",
     "output_type": "stream",
     "text": [
      "False\n"
     ]
    }
   ],
   "source": [
    "def isBoardFilled(board):\n",
    "  for i in board:\n",
    "    for j in i:\n",
    "      if(j=='-'): return False\n",
    "  return True\n",
    "print(isBoardFilled(mainBoard))"
   ]
  },
  {
   "cell_type": "markdown",
   "metadata": {
    "id": "AheeZXfIiqch"
   },
   "source": [
    "## 4. has player won"
   ]
  },
  {
   "cell_type": "code",
   "execution_count": 4,
   "metadata": {
    "id": "K8bc9DwJipAJ"
   },
   "outputs": [],
   "source": [
    "def hasWon(board,player = 'O'):\n",
    "  # in row\n",
    "  for i in board:\n",
    "    count = 0\n",
    "    for j in i:\n",
    "      if(j == player):\n",
    "        count += 1\n",
    "    if(count == 3):\n",
    "      return True\n",
    "  \n",
    "  # in column\n",
    "  for i in range(0,len(board)):\n",
    "    count = 0;\n",
    "    for j in range(0,len(board[i])):\n",
    "      if(board[j][i] == player):\n",
    "        count += 1\n",
    "    if(count == 3):\n",
    "      return True\n",
    "  \n",
    "  # in diagonal left to right\n",
    "  count = 0\n",
    "  for i in range(0,len(board)):\n",
    "    if(board[i][i] == player):\n",
    "      count += 1\n",
    "  if(count == 3):\n",
    "    return True\n",
    "\n",
    "  # in diagonal right to left\n",
    "  n = len(board) - 1\n",
    "  count = 0\n",
    "  for i in range(0,len(board)):\n",
    "    if(board[i][n - i] == player):\n",
    "      count += 1\n",
    "  if(count == 3):\n",
    "    return True\n",
    "\n",
    "  return False\n"
   ]
  },
  {
   "cell_type": "markdown",
   "metadata": {
    "id": "CSw8SCfOixyE"
   },
   "source": [
    "## 5. Add player to board"
   ]
  },
  {
   "cell_type": "code",
   "execution_count": 5,
   "metadata": {
    "id": "IF7IRu_eitN1"
   },
   "outputs": [],
   "source": [
    "def addToBoard(board, player = '-',x = 0, y = 0):\n",
    "  if(player == '-'):\n",
    "    print(\"ERROR: Enter valid player i.e. x or o !!!\")\n",
    "    return -1\n",
    "\n",
    "  n = len(board)\n",
    "  if(x < n and y < n and x >=0 and y >= 0):\n",
    "    if(board[x][y] == '-'):\n",
    "      board[x][y] = player\n",
    "      return 1\n",
    "    else:\n",
    "      print(\"ERROR: Position is already occupied !!!\")\n",
    "    return -1\n",
    "  print(\"ERROR: Invalid player location !!!\")\n",
    "  return - 1"
   ]
  },
  {
   "cell_type": "markdown",
   "metadata": {
    "id": "cp0MNY_lj_KN"
   },
   "source": [
    "## 6. Min Max algorithm"
   ]
  },
  {
   "cell_type": "markdown",
   "metadata": {
    "id": "Q9XURyShkCQS"
   },
   "source": [
    "### 6.1 We need to memorize all states and their child with values so that we can use it later on\n",
    "### 6.2 Recursive dfs to generate and get said values of each states"
   ]
  },
  {
   "cell_type": "code",
   "execution_count": 6,
   "metadata": {
    "colab": {
     "base_uri": "https://localhost:8080/"
    },
    "id": "-n2yFXqAkU5X",
    "outputId": "38b91ca0-517f-410b-ebf7-7b185bf9f206"
   },
   "outputs": [
    {
     "data": {
      "text/plain": [
       "0"
      ]
     },
     "execution_count": 6,
     "metadata": {},
     "output_type": "execute_result"
    }
   ],
   "source": [
    "import copy\n",
    "\n",
    "# key = board, val = [child_board...]\n",
    "mem = {}\n",
    "\n",
    "# we say, first x will play so for 0, 2, 4, 6th chance i.e. at all even chance we will apply max and x will play\n",
    "def minMax(board,turn):\n",
    "  player = 'O' if (turn%2 == 1) else 'X'\n",
    "\n",
    "  if(hasWon(board,player)):\n",
    "    return -1 if (player == 'O') else 1\n",
    "\n",
    "  if(isBoardFilled(board)):\n",
    "    return 0\n",
    "\n",
    "  boardVal = 100 if(turn%2 == 1) else -100\n",
    "  mem[str(board)] = []\n",
    "\n",
    "  # apply dfs to this current state\n",
    "  for i in range(0,3):\n",
    "    for j in range(0,3):\n",
    "      if(board[i][j] == '-'):\n",
    "        temp = copy.deepcopy(board)\n",
    "        temp[i][j] = player\n",
    "        tempVal = minMax(temp,turn+1)\n",
    "\n",
    "        # put the board as well as value in the memory dict\n",
    "        mem[str(board)].append((temp,tempVal,(i,j)))\n",
    "        boardVal = min(boardVal,tempVal) if(turn%2==1) else max(boardVal,tempVal)\n",
    "  return boardVal \n",
    "\n",
    "minMax(mainBoard,0)"
   ]
  },
  {
   "cell_type": "markdown",
   "metadata": {
    "id": "WD96n40ErEEB"
   },
   "source": [
    "## 7. How AI will play ?"
   ]
  },
  {
   "cell_type": "code",
   "execution_count": 7,
   "metadata": {
    "id": "N843T0PJoSWX"
   },
   "outputs": [],
   "source": [
    "def aiMove(board,player = 'O'):\n",
    "  val = -100 if(player == 'X') else 100\n",
    "  loc = (-1,-1)\n",
    "  for i in mem[str(board)]:\n",
    "    cond = (val < i[1]) if (player == 'X') else (val > i[1])\n",
    "    if(cond):\n",
    "      val = i[1]\n",
    "      loc = i[2]\n",
    "  # print(loc)\n",
    "  addToBoard(board,player,loc[0],loc[1])\n",
    "  return loc"
   ]
  },
  {
   "cell_type": "markdown",
   "metadata": {
    "id": "gorA1MZYrvNw"
   },
   "source": [
    "# Let the game start !"
   ]
  },
  {
   "cell_type": "code",
   "execution_count": 8,
   "metadata": {
    "colab": {
     "base_uri": "https://localhost:8080/"
    },
    "id": "WaUooGBwrre_",
    "outputId": "da13d71b-a77e-4d48-bc6a-9bd6cec6c55b"
   },
   "outputs": [
    {
     "name": "stdout",
     "output_type": "stream",
     "text": [
      ":::::  Tic Tac Toe :::::\n",
      "\n",
      "You are X\n",
      "AI is O\n",
      "\n",
      "Let the game begin !\n",
      "\n",
      "Current board: \n",
      "  | 0 1 2\n",
      "--|-------\n",
      "0 | - - - \n",
      "1 | - - - \n",
      "2 | - - - \n",
      "\n",
      "Note: positions are indexed from 0 - 2 !\n",
      "\n",
      "\n",
      "Your turn:\n",
      "Enter Row position: 2\n",
      "Enter Column position: 0\n",
      "\n",
      "After Your move: \n",
      "  | 0 1 2\n",
      "--|-------\n",
      "0 | - - - \n",
      "1 | - - - \n",
      "2 | X - - \n",
      "\n",
      "After AIs move: \n",
      "  | 0 1 2\n",
      "--|-------\n",
      "0 | - - - \n",
      "1 | - O - \n",
      "2 | X - - \n",
      "\n",
      "Your turn:\n",
      "Enter Row position: 0\n",
      "Enter Column position: 0\n",
      "\n",
      "After Your move: \n",
      "  | 0 1 2\n",
      "--|-------\n",
      "0 | X - - \n",
      "1 | - O - \n",
      "2 | X - - \n",
      "\n",
      "After AIs move: \n",
      "  | 0 1 2\n",
      "--|-------\n",
      "0 | X - - \n",
      "1 | O O - \n",
      "2 | X - - \n",
      "\n",
      "Your turn:\n",
      "Enter Row position: 1\n",
      "Enter Column position: 2\n",
      "\n",
      "After Your move: \n",
      "  | 0 1 2\n",
      "--|-------\n",
      "0 | X - - \n",
      "1 | O O X \n",
      "2 | X - - \n",
      "\n",
      "After AIs move: \n",
      "  | 0 1 2\n",
      "--|-------\n",
      "0 | X O - \n",
      "1 | O O X \n",
      "2 | X - - \n",
      "\n",
      "Your turn:\n",
      "Enter Row position: 2\n",
      "Enter Column position: 1\n",
      "\n",
      "After Your move: \n",
      "  | 0 1 2\n",
      "--|-------\n",
      "0 | X O - \n",
      "1 | O O X \n",
      "2 | X X - \n",
      "\n",
      "After AIs move: \n",
      "  | 0 1 2\n",
      "--|-------\n",
      "0 | X O O \n",
      "1 | O O X \n",
      "2 | X X - \n",
      "\n",
      "Your turn:\n",
      "Enter Row position: 2\n",
      "Enter Column position: 2\n",
      "\n",
      "After Your move: \n",
      "  | 0 1 2\n",
      "--|-------\n",
      "0 | X O O \n",
      "1 | O O X \n",
      "2 | X X X \n",
      "\n",
      "You won !!!\n",
      "\n",
      "Game ended in tie!!!\n"
     ]
    }
   ],
   "source": [
    "import time\n",
    "mainBoard = [['-' for i in range(0,3)] for i in range(0,3)]\n",
    "\n",
    "user = 'X'\n",
    "ai = 'O'\n",
    "\n",
    "print(\":::::  Tic Tac Toe :::::\")\n",
    "print(\"\")\n",
    "print(\"You are X\")\n",
    "print(\"AI is O\")\n",
    "\n",
    "print(\"\\nLet the game begin !\")\n",
    "print(\"\\nCurrent board: \")\n",
    "printBoard(mainBoard)\n",
    "print(\"\")\n",
    "print(\"Note: positions are indexed from 0 - 2 !\\n\")\n",
    "x = 0\n",
    "y = 0\n",
    "while(isBoardFilled(mainBoard) == False):\n",
    "  print(\"\\nYour turn:\")\n",
    "  x = int(input(\"Enter Row position: \"))\n",
    "  y = int(input(\"Enter Column position: \"))\n",
    "\n",
    "  userMove = addToBoard(mainBoard,user,x,y)\n",
    "  if(userMove == -1):\n",
    "    continue\n",
    "  print(\"\\nAfter Your move: \")\n",
    "  printBoard(mainBoard)\n",
    "\n",
    "  if(hasWon(mainBoard,user) == True):\n",
    "    print(\"\\nYou won !!!\")\n",
    "    break\n",
    "\n",
    "  time.sleep(1)\n",
    "  aiMove(mainBoard,ai)\n",
    "  print(\"\\nAfter AIs move: \")\n",
    "  printBoard(mainBoard)\n",
    "\n",
    "  if(hasWon(mainBoard,ai) == True):\n",
    "    print(\"\\nAI won !!!\")\n",
    "    break\n",
    "\n",
    "  time.sleep(2)\n",
    "\n",
    "if(isBoardFilled(mainBoard) == True):\n",
    "  print(\"\\nGame ended in tie!!!\")"
   ]
  },
  {
   "cell_type": "code",
   "execution_count": null,
   "metadata": {},
   "outputs": [],
   "source": []
  }
 ],
 "metadata": {
  "colab": {
   "collapsed_sections": [],
   "name": "ai-lab-practical-5.ipynb",
   "provenance": []
  },
  "kernelspec": {
   "display_name": "Python 3",
   "language": "python",
   "name": "python3"
  },
  "language_info": {
   "codemirror_mode": {
    "name": "ipython",
    "version": 3
   },
   "file_extension": ".py",
   "mimetype": "text/x-python",
   "name": "python",
   "nbconvert_exporter": "python",
   "pygments_lexer": "ipython3",
   "version": "3.8.5"
  }
 },
 "nbformat": 4,
 "nbformat_minor": 1
}
