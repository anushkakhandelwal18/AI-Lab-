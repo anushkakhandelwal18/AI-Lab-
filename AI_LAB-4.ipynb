{
 "cells": [
  {
   "cell_type": "markdown",
   "metadata": {
    "id": "AHCjFedXhSRZ"
   },
   "source": [
    "# LAB-4\n",
    "## 8-Puzzle Problem using A* Algorithm"
   ]
  },
  {
   "cell_type": "code",
   "execution_count": 1,
   "metadata": {
    "colab": {
     "base_uri": "https://localhost:8080/",
     "height": 34
    },
    "executionInfo": {
     "elapsed": 523,
     "status": "ok",
     "timestamp": 1654582210346,
     "user": {
      "displayName": "E-48 Madhav Jha",
      "userId": "17793726210268974405"
     },
     "user_tz": -330
    },
    "id": "_0IxGKK3hMUW",
    "outputId": "a2213515-f8ee-473d-f26e-d4465563d86b"
   },
   "outputs": [
    {
     "name": "stdout",
     "output_type": "stream",
     "text": [
      "[['2', '8', '3'], ['1', '6', '4'], ['7', '-', '5']]\n"
     ]
    }
   ],
   "source": [
    "# initial state\n",
    "mainBoard = [['2','8','3'],['1','6','4'],['7','-','5']]\n",
    "finalBoard = [['1','2','3'],['8','-','4'],['7','6','5']]\n",
    "print(mainBoard)"
   ]
  },
  {
   "cell_type": "code",
   "execution_count": 11,
   "metadata": {
    "colab": {
     "base_uri": "https://localhost:8080/",
     "height": 86
    },
    "executionInfo": {
     "elapsed": 191,
     "status": "ok",
     "timestamp": 1654582211457,
     "user": {
      "displayName": "E-48 Madhav Jha",
      "userId": "17793726210268974405"
     },
     "user_tz": -330
    },
    "id": "Uua6wDe6hcR2",
    "outputId": "ea8484c5-4e8c-4187-e988-fa413f76e265"
   },
   "outputs": [
    {
     "name": "stdout",
     "output_type": "stream",
     "text": [
      "2 8 3 \n",
      "1 6 4 \n",
      "7 - 5 \n",
      "\n"
     ]
    }
   ],
   "source": [
    "def displayBoard(board):\n",
    "    for i in board:\n",
    "        for j in i:\n",
    "            print(j,end=\" \")\n",
    "        print(\"\")\n",
    "    print(\"\")\n",
    "displayBoard(mainBoard)"
   ]
  },
  {
   "cell_type": "code",
   "execution_count": 12,
   "metadata": {
    "colab": {
     "base_uri": "https://localhost:8080/",
     "height": 34
    },
    "executionInfo": {
     "elapsed": 181,
     "status": "ok",
     "timestamp": 1654582211460,
     "user": {
      "displayName": "E-48 Madhav Jha",
      "userId": "17793726210268974405"
     },
     "user_tz": -330
    },
    "id": "lpbHOQLphd8l",
    "outputId": "d06ca697-7efe-476a-a6f0-8380ce64f425"
   },
   "outputs": [
    {
     "data": {
      "text/plain": [
       "False"
      ]
     },
     "execution_count": 12,
     "metadata": {},
     "output_type": "execute_result"
    }
   ],
   "source": [
    "def isGameOver(board,final):\n",
    "    for i in range(0,len(board)):\n",
    "        for j in range(0,len(board[0])):\n",
    "            if(board[i][j] != final[i][j]):\n",
    "                return False\n",
    "    return True\n",
    "isGameOver(mainBoard,finalBoard)"
   ]
  },
  {
   "cell_type": "markdown",
   "metadata": {
    "id": "dFTBGpYNhmrf"
   },
   "source": [
    "## Transistion functions"
   ]
  },
  {
   "cell_type": "code",
   "execution_count": 13,
   "metadata": {
    "colab": {
     "base_uri": "https://localhost:8080/",
     "height": 295
    },
    "executionInfo": {
     "elapsed": 177,
     "status": "ok",
     "timestamp": 1654582211463,
     "user": {
      "displayName": "E-48 Madhav Jha",
      "userId": "17793726210268974405"
     },
     "user_tz": -330
    },
    "id": "c_-Ib-EDhf-p",
    "outputId": "e5ab27df-c23a-47f4-a89f-eb0cfe746f10"
   },
   "outputs": [
    {
     "name": "stdout",
     "output_type": "stream",
     "text": [
      "2 8 3 \n",
      "1 - 4 \n",
      "7 6 5 \n",
      "\n",
      "2 8 3 \n",
      "1 6 4 \n",
      "7 - 5 \n",
      "\n",
      "2 8 3 \n",
      "1 6 4 \n",
      "- 7 5 \n",
      "\n",
      "2 8 3 \n",
      "1 6 4 \n",
      "7 5 - \n",
      "\n"
     ]
    }
   ],
   "source": [
    "# transistion functions\n",
    "def findVoid(board):\n",
    "    loc = [-1,-1]\n",
    "    for i in range(0,len(board)):\n",
    "        for j in range(0,len(board[0])):\n",
    "            if(board[i][j] == '-'):\n",
    "                loc[0] = i\n",
    "                loc[1] = j\n",
    "                return loc;\n",
    "    return loc\n",
    "findVoid(mainBoard)\n",
    "\n",
    "def up(board):\n",
    "    loc = findVoid(board)\n",
    "    ls = [x[:] for x in board]\n",
    "    if(loc[0] - 1 >= 0):\n",
    "        ls[loc[0]][loc[1]] = ls[loc[0] - 1][loc[1]]\n",
    "        ls[loc[0]-1][loc[1]] = '-'\n",
    "    return ls\n",
    "displayBoard(up(mainBoard))\n",
    "\n",
    "def down(board):\n",
    "    loc = findVoid(board)\n",
    "    ls = [x[:] for x in board]\n",
    "    if(loc[0] + 1 < len(ls)):\n",
    "        ls[loc[0]][loc[1]] = ls[loc[0] + 1][loc[1]]\n",
    "        ls[loc[0] + 1][loc[1]] = '-'\n",
    "    return ls\n",
    "displayBoard(down(mainBoard))\n",
    "\n",
    "def left(board):\n",
    "    loc = findVoid(board)\n",
    "    ls = [x[:] for x in board]\n",
    "    if(loc[1] - 1 >= 0):\n",
    "        ls[loc[0]][loc[1]] = ls[loc[0]][loc[1] - 1]\n",
    "        ls[loc[0]][loc[1] - 1] = '-'\n",
    "    return ls\n",
    "displayBoard(left(mainBoard))\n",
    "\n",
    "def right(board):\n",
    "    loc = findVoid(board)\n",
    "    ls = [x[:] for x in board]\n",
    "    if(loc[1] + 1 < len(ls)):\n",
    "        ls[loc[0]][loc[1]] = ls[loc[0]][loc[1] + 1]\n",
    "        ls[loc[0]][loc[1] + 1] = '-'\n",
    "    return ls\n",
    "displayBoard(right(mainBoard))\n"
   ]
  },
  {
   "cell_type": "markdown",
   "metadata": {
    "id": "W6USlfULhrYY"
   },
   "source": [
    "## 1. Using BFS"
   ]
  },
  {
   "cell_type": "code",
   "execution_count": null,
   "metadata": {
    "colab": {
     "base_uri": "https://localhost:8080/",
     "height": 156
    },
    "executionInfo": {
     "elapsed": 171,
     "status": "ok",
     "timestamp": 1654582211466,
     "user": {
      "displayName": "E-48 Madhav Jha",
      "userId": "17793726210268974405"
     },
     "user_tz": -330
    },
    "id": "rpwr4H58hikC",
    "outputId": "b68c7d63-1cd2-41bd-9d83-96c1885357f6"
   },
   "outputs": [],
   "source": [
    "fn = [up,down,left,right]\n",
    "mem = []\n",
    "\n",
    "def inMem(board):\n",
    "    for l in mem:\n",
    "        if(isGameOver(l,board)):\n",
    "            return True\n",
    "    return False\n",
    "\n",
    "ls = [mainBoard]\n",
    "\n",
    "def letsGame():\n",
    "    count = 0\n",
    "    gen = 0\n",
    "    while(len(ls) > 0):\n",
    "        l = len(ls)\n",
    "\n",
    "    # goal test\n",
    "    for t in ls:\n",
    "        if(isGameOver(t,finalBoard)):\n",
    "            return \"YES\"\n",
    "    count += 1\n",
    "    print(str(count) + \": \",end=\"\")\n",
    "    print(ls)\n",
    "    while(l > 0):\n",
    "        if(inMem(ls[0]) == 1):\n",
    "            ls.pop(0)\n",
    "            l -= 1\n",
    "            continue\n",
    "\n",
    "        mem.append(ls[0])\n",
    "\n",
    "        for f in fn:\n",
    "            temp = f(ls[0])\n",
    "            if(isGameOver(temp,finalBoard)):\n",
    "                return \"YES found on level: \" + str(count) + \" & steps: \" + str(gen) + \" !!\"\n",
    "            ls.append(f(ls[0]))\n",
    "            gen += 1\n",
    "    \n",
    "        ls.pop(0)\n",
    "        l -= 1\n",
    "    return \"NO\"\n",
    "letsGame()"
   ]
  },
  {
   "cell_type": "markdown",
   "metadata": {
    "id": "czOKfDUHh2SG"
   },
   "source": [
    "## Heuristics"
   ]
  },
  {
   "cell_type": "code",
   "execution_count": 14,
   "metadata": {
    "colab": {
     "base_uri": "https://localhost:8080/",
     "height": 34
    },
    "executionInfo": {
     "elapsed": 158,
     "status": "ok",
     "timestamp": 1654582211468,
     "user": {
      "displayName": "E-48 Madhav Jha",
      "userId": "17793726210268974405"
     },
     "user_tz": -330
    },
    "id": "bedZzOiPh1un",
    "outputId": "8c207efe-99cf-4685-8c1e-01fc84887432"
   },
   "outputs": [
    {
     "data": {
      "text/plain": [
       "5"
      ]
     },
     "execution_count": 14,
     "metadata": {},
     "output_type": "execute_result"
    }
   ],
   "source": [
    "# h1 = misplaced tiles\n",
    "def h1(b1,b2):\n",
    "    count = 0\n",
    "    for i in range(0,3):\n",
    "        for j in range(0,3):\n",
    "            if b1[i][j] != b2[i][j]:\n",
    "                count += 1\n",
    "    return count\n",
    "h1(mainBoard,finalBoard)"
   ]
  },
  {
   "cell_type": "code",
   "execution_count": 15,
   "metadata": {
    "colab": {
     "base_uri": "https://localhost:8080/",
     "height": 34
    },
    "executionInfo": {
     "elapsed": 149,
     "status": "ok",
     "timestamp": 1654582211470,
     "user": {
      "displayName": "E-48 Madhav Jha",
      "userId": "17793726210268974405"
     },
     "user_tz": -330
    },
    "id": "MBJgaah8kwKP",
    "outputId": "f06361ed-e3aa-4c5f-9a26-fca33aff59e9"
   },
   "outputs": [
    {
     "data": {
      "text/plain": [
       "6"
      ]
     },
     "execution_count": 15,
     "metadata": {},
     "output_type": "execute_result"
    }
   ],
   "source": [
    "# h2 = manhattan distance\n",
    "def manDist(s,board):\n",
    "    x,y = 0,0\n",
    "    for i in range(0,3):\n",
    "        for j in range(0,3):\n",
    "            if(board[i][j] == s):\n",
    "                x,y = i,j\n",
    "    return (x,y)\n",
    "\n",
    "def h2(b1,b2):\n",
    "    count = 0\n",
    "    for i in range(0,3):\n",
    "        for j in range(0,3):\n",
    "            loc = manDist(b1[i][j],b2)\n",
    "            count += abs(loc[0] - i) + abs(loc[1]-j)\n",
    "    return count\n",
    "h2(mainBoard,finalBoard)"
   ]
  },
  {
   "cell_type": "markdown",
   "metadata": {
    "id": "U8BB_RkrhuXX"
   },
   "source": [
    "## 2. A* using heuristic 1"
   ]
  },
  {
   "cell_type": "code",
   "execution_count": 16,
   "metadata": {
    "colab": {
     "base_uri": "https://localhost:8080/",
     "height": 538
    },
    "executionInfo": {
     "elapsed": 143,
     "status": "ok",
     "timestamp": 1654582211471,
     "user": {
      "displayName": "E-48 Madhav Jha",
      "userId": "17793726210268974405"
     },
     "user_tz": -330
    },
    "id": "GiSssINkhlLL",
    "outputId": "6beab3f9-2418-4e4c-8076-cbe050274b78"
   },
   "outputs": [
    {
     "name": "stdout",
     "output_type": "stream",
     "text": [
      "Frontier: [\"( h: 5)[['2', '8', '3'], ['1', '6', '4'], ['7', '-', '5']]\"]\n",
      "Current: \n",
      "2 8 3 \n",
      "1 6 4 \n",
      "7 - 5 \n",
      "\n",
      "Frontier: [\"( h: 4)[['2', '8', '3'], ['1', '-', '4'], ['7', '6', '5']]\", \"( h: 7)[['2', '8', '3'], ['1', '6', '4'], ['-', '7', '5']]\", \"( h: 7)[['2', '8', '3'], ['1', '6', '4'], ['7', '5', '-']]\"]\n",
      "Current: \n",
      "2 8 3 \n",
      "1 - 4 \n",
      "7 6 5 \n",
      "\n",
      "Frontier: [\"( h: 6)[['2', '-', '3'], ['1', '8', '4'], ['7', '6', '5']]\", \"( h: 6)[['2', '8', '3'], ['-', '1', '4'], ['7', '6', '5']]\", \"( h: 7)[['2', '8', '3'], ['1', '4', '-'], ['7', '6', '5']]\", \"( h: 7)[['2', '8', '3'], ['1', '6', '4'], ['-', '7', '5']]\", \"( h: 7)[['2', '8', '3'], ['1', '6', '4'], ['7', '5', '-']]\"]\n",
      "Current: \n",
      "2 - 3 \n",
      "1 8 4 \n",
      "7 6 5 \n",
      "\n",
      "Frontier: [\"( h: 6)[['-', '2', '3'], ['1', '8', '4'], ['7', '6', '5']]\", \"( h: 6)[['2', '8', '3'], ['-', '1', '4'], ['7', '6', '5']]\", \"( h: 7)[['2', '8', '3'], ['1', '4', '-'], ['7', '6', '5']]\", \"( h: 7)[['2', '8', '3'], ['1', '6', '4'], ['-', '7', '5']]\", \"( h: 7)[['2', '8', '3'], ['1', '6', '4'], ['7', '5', '-']]\", \"( h: 8)[['2', '3', '-'], ['1', '8', '4'], ['7', '6', '5']]\"]\n",
      "Current: \n",
      "- 2 3 \n",
      "1 8 4 \n",
      "7 6 5 \n",
      "\n",
      "Frontier: [\"( h: 6)[['1', '2', '3'], ['-', '8', '4'], ['7', '6', '5']]\", \"( h: 6)[['2', '8', '3'], ['-', '1', '4'], ['7', '6', '5']]\", \"( h: 7)[['2', '8', '3'], ['1', '4', '-'], ['7', '6', '5']]\", \"( h: 7)[['2', '8', '3'], ['1', '6', '4'], ['-', '7', '5']]\", \"( h: 7)[['2', '8', '3'], ['1', '6', '4'], ['7', '5', '-']]\", \"( h: 8)[['2', '3', '-'], ['1', '8', '4'], ['7', '6', '5']]\"]\n",
      "Current: \n",
      "1 2 3 \n",
      "- 8 4 \n",
      "7 6 5 \n",
      "\n",
      "Frontier: [\"( h: 5)[['1', '2', '3'], ['8', '-', '4'], ['7', '6', '5']]\", \"( h: 6)[['2', '8', '3'], ['-', '1', '4'], ['7', '6', '5']]\", \"( h: 7)[['2', '8', '3'], ['1', '4', '-'], ['7', '6', '5']]\", \"( h: 7)[['2', '8', '3'], ['1', '6', '4'], ['-', '7', '5']]\", \"( h: 7)[['2', '8', '3'], ['1', '6', '4'], ['7', '5', '-']]\", \"( h: 8)[['1', '2', '3'], ['7', '8', '4'], ['-', '6', '5']]\", \"( h: 8)[['2', '3', '-'], ['1', '8', '4'], ['7', '6', '5']]\"]\n",
      "Current: \n",
      "1 2 3 \n",
      "8 - 4 \n",
      "7 6 5 \n",
      "\n",
      "Found it!!\n",
      "At depth: 5\n"
     ]
    }
   ],
   "source": [
    "fn = [up,down,left,right]\n",
    "mem = {}\n",
    "\n",
    "q = []\n",
    "# (heuristic,board,depth)\n",
    "q.append((h1(mainBoard,finalBoard),mainBoard,0))\n",
    "\n",
    "while(len(q) > 0):\n",
    "    print(\"Frontier: \",end=\"\")\n",
    "    print([\"( h: \" + str(i[0]) + \")\" + str(i[1])  for i in q])\n",
    "\n",
    "    h = q[0][0]\n",
    "    node = q[0][1]\n",
    "    d = q[0][2]\n",
    "    q.pop(0)\n",
    "\n",
    "    mem[str(node)] = 1\n",
    "\n",
    "    print(\"Current: \")\n",
    "    displayBoard(node)\n",
    "\n",
    "    if(isGameOver(node,finalBoard)):\n",
    "        print(\"Found it!!\\nAt depth: \" + str(d))\n",
    "        break\n",
    "\n",
    "    for f in fn:\n",
    "        temp = f(node)\n",
    "        if str(temp) in mem.keys():\n",
    "            continue\n",
    "        q.append((h1(temp,finalBoard) + d + 1,temp,d + 1))\n",
    "    q.sort()"
   ]
  },
  {
   "cell_type": "markdown",
   "metadata": {
    "id": "usrUuNHlkn9F"
   },
   "source": [
    "## 3. A* using heuristic 2"
   ]
  },
  {
   "cell_type": "code",
   "execution_count": 17,
   "metadata": {
    "colab": {
     "base_uri": "https://localhost:8080/",
     "height": 538
    },
    "executionInfo": {
     "elapsed": 138,
     "status": "ok",
     "timestamp": 1654582211473,
     "user": {
      "displayName": "E-48 Madhav Jha",
      "userId": "17793726210268974405"
     },
     "user_tz": -330
    },
    "id": "2REv_P0hlcNX",
    "outputId": "1bd415e2-375a-4150-f20d-dba78ee0de3b"
   },
   "outputs": [
    {
     "name": "stdout",
     "output_type": "stream",
     "text": [
      "Frontier: [\"( h: 6)[['2', '8', '3'], ['1', '6', '4'], ['7', '-', '5']]\"]\n",
      "Current: \n",
      "2 8 3 \n",
      "1 6 4 \n",
      "7 - 5 \n",
      "\n",
      "Frontier: [\"( h: 5)[['2', '8', '3'], ['1', '-', '4'], ['7', '6', '5']]\", \"( h: 9)[['2', '8', '3'], ['1', '6', '4'], ['-', '7', '5']]\", \"( h: 9)[['2', '8', '3'], ['1', '6', '4'], ['7', '5', '-']]\"]\n",
      "Current: \n",
      "2 8 3 \n",
      "1 - 4 \n",
      "7 6 5 \n",
      "\n",
      "Frontier: [\"( h: 6)[['2', '-', '3'], ['1', '8', '4'], ['7', '6', '5']]\", \"( h: 8)[['2', '8', '3'], ['-', '1', '4'], ['7', '6', '5']]\", \"( h: 8)[['2', '8', '3'], ['1', '4', '-'], ['7', '6', '5']]\", \"( h: 9)[['2', '8', '3'], ['1', '6', '4'], ['-', '7', '5']]\", \"( h: 9)[['2', '8', '3'], ['1', '6', '4'], ['7', '5', '-']]\"]\n",
      "Current: \n",
      "2 - 3 \n",
      "1 8 4 \n",
      "7 6 5 \n",
      "\n",
      "Frontier: [\"( h: 7)[['-', '2', '3'], ['1', '8', '4'], ['7', '6', '5']]\", \"( h: 8)[['2', '8', '3'], ['-', '1', '4'], ['7', '6', '5']]\", \"( h: 8)[['2', '8', '3'], ['1', '4', '-'], ['7', '6', '5']]\", \"( h: 9)[['2', '3', '-'], ['1', '8', '4'], ['7', '6', '5']]\", \"( h: 9)[['2', '8', '3'], ['1', '6', '4'], ['-', '7', '5']]\", \"( h: 9)[['2', '8', '3'], ['1', '6', '4'], ['7', '5', '-']]\"]\n",
      "Current: \n",
      "- 2 3 \n",
      "1 8 4 \n",
      "7 6 5 \n",
      "\n",
      "Frontier: [\"( h: 6)[['1', '2', '3'], ['-', '8', '4'], ['7', '6', '5']]\", \"( h: 8)[['2', '8', '3'], ['-', '1', '4'], ['7', '6', '5']]\", \"( h: 8)[['2', '8', '3'], ['1', '4', '-'], ['7', '6', '5']]\", \"( h: 9)[['2', '3', '-'], ['1', '8', '4'], ['7', '6', '5']]\", \"( h: 9)[['2', '8', '3'], ['1', '6', '4'], ['-', '7', '5']]\", \"( h: 9)[['2', '8', '3'], ['1', '6', '4'], ['7', '5', '-']]\"]\n",
      "Current: \n",
      "1 2 3 \n",
      "- 8 4 \n",
      "7 6 5 \n",
      "\n",
      "Frontier: [\"( h: 5)[['1', '2', '3'], ['8', '-', '4'], ['7', '6', '5']]\", \"( h: 8)[['2', '8', '3'], ['-', '1', '4'], ['7', '6', '5']]\", \"( h: 8)[['2', '8', '3'], ['1', '4', '-'], ['7', '6', '5']]\", \"( h: 9)[['1', '2', '3'], ['7', '8', '4'], ['-', '6', '5']]\", \"( h: 9)[['2', '3', '-'], ['1', '8', '4'], ['7', '6', '5']]\", \"( h: 9)[['2', '8', '3'], ['1', '6', '4'], ['-', '7', '5']]\", \"( h: 9)[['2', '8', '3'], ['1', '6', '4'], ['7', '5', '-']]\"]\n",
      "Current: \n",
      "1 2 3 \n",
      "8 - 4 \n",
      "7 6 5 \n",
      "\n",
      "Found it!!\n",
      "At depth: 5\n"
     ]
    }
   ],
   "source": [
    "fn = [up,down,left,right]\n",
    "mem = {}\n",
    "\n",
    "q = []\n",
    "# (heuristic,board,depth)\n",
    "q.append((h2(mainBoard,finalBoard),mainBoard,0))\n",
    "\n",
    "while(len(q) > 0):\n",
    "    print(\"Frontier: \",end=\"\")\n",
    "    print([\"( h: \" + str(i[0]) + \")\" + str(i[1])  for i in q])\n",
    "\n",
    "    h = q[0][0]\n",
    "    node = q[0][1]\n",
    "    d = q[0][2]\n",
    "    q.pop(0)\n",
    "\n",
    "    mem[str(node)] = 1\n",
    "\n",
    "    print(\"Current: \")\n",
    "    displayBoard(node)\n",
    "\n",
    "    if(isGameOver(node,finalBoard)):\n",
    "        print(\"Found it!!\\nAt depth: \" + str(d))\n",
    "        break\n",
    "\n",
    "    for f in fn:\n",
    "        temp = f(node)\n",
    "        if str(temp) in mem.keys():\n",
    "            continue\n",
    "        q.append((h2(temp,finalBoard) + d + 1,temp,d + 1))\n",
    "    q.sort()"
   ]
  },
  {
   "cell_type": "code",
   "execution_count": null,
   "metadata": {},
   "outputs": [],
   "source": []
  }
 ],
 "metadata": {
  "colab": {
   "authorship_tag": "ABX9TyO+Kk3d4a7/QaxT0WV80SW4",
   "collapsed_sections": [],
   "name": "ai-lab-practical-4.ipynb",
   "provenance": []
  },
  "kernelspec": {
   "display_name": "Python 3",
   "language": "python",
   "name": "python3"
  },
  "language_info": {
   "codemirror_mode": {
    "name": "ipython",
    "version": 3
   },
   "file_extension": ".py",
   "mimetype": "text/x-python",
   "name": "python",
   "nbconvert_exporter": "python",
   "pygments_lexer": "ipython3",
   "version": "3.8.5"
  }
 },
 "nbformat": 4,
 "nbformat_minor": 1
}
